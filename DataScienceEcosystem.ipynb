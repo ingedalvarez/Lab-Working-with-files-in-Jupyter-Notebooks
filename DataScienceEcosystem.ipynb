{
 "cells": [
  {
   "cell_type": "markdown",
   "id": "ad44ca5d-2551-4c37-9c9f-467282db8e03",
   "metadata": {},
   "source": [
    "# Data Science Tools and Ecosystem"
   ]
  },
  {
   "cell_type": "markdown",
   "id": "826eefed-8a77-4550-98db-a490b72bf2eb",
   "metadata": {},
   "source": [
    "In this notebook, Data Science Tools and Ecosystem are summarized."
   ]
  },
  {
   "cell_type": "markdown",
   "id": "b58276de-26d3-42c6-b187-72c43fa65ca1",
   "metadata": {},
   "source": [
    "**Objectives:**\n",
    "\n",
    "* The main goal of this notebook is for you to be knowledgeable about the kinds of tools Data Scientists use, their examples, and get some hands-on time with a few key tools\n",
    "* Identify the criteria and roles for determining the language to learn.\n",
    "* List examples of the various libraries: scientific, visualization, machine learning, and deep learning."
   ]
  },
  {
   "cell_type": "markdown",
   "id": "3aafdb81-abdc-41af-9a5e-7c4a5a2b914e",
   "metadata": {},
   "source": [
    "Some of the popular languages that Data Scientists use are:\n",
    "1. Python\n",
    "2. R\n",
    "3. Julia\n",
    "4. C++\n",
    "5. Java"
   ]
  },
  {
   "cell_type": "markdown",
   "id": "c04ef23d-6487-4848-9144-3cea847245af",
   "metadata": {},
   "source": [
    "Some of the commonly used libraries used by Data Scientists include:\n",
    "1. TensorFlow\n",
    "2. PyTorch\n",
    "3. Keras\n",
    "4. Scikit-learn\n",
    "5. NumPy\n",
    "6. Apache MLlib"
   ]
  },
  {
   "cell_type": "markdown",
   "id": "8ab967c5-b465-46df-98d4-1b8699983e3b",
   "metadata": {},
   "source": [
    "|Data Science Tools|\n",
    "--------------------\n",
    "|Jupyter NoteBook|\n",
    "|RStudio|\n",
    "|Spyder|\n",
    "|Visual Studio code|"
   ]
  },
  {
   "cell_type": "markdown",
   "id": "bca620e5-858c-4120-a34a-797ad1e5cdc2",
   "metadata": {},
   "source": [
    "### Below are a few examples of evaluating arithmetic expressions in Python"
   ]
  },
  {
   "cell_type": "code",
   "execution_count": 28,
   "id": "a08cfde1-cc04-4f5b-ab2d-d101ef861594",
   "metadata": {},
   "outputs": [
    {
     "data": {
      "text/plain": [
       "17"
      ]
     },
     "execution_count": 28,
     "metadata": {},
     "output_type": "execute_result"
    }
   ],
   "source": [
    "5 + (3*4)\n",
    "# This a simple arithmetic expression to mutiply then add integers"
   ]
  },
  {
   "cell_type": "code",
   "execution_count": 29,
   "id": "997ab0ed-132a-42af-b97f-99cc4ae537a1",
   "metadata": {},
   "outputs": [
    {
     "data": {
      "text/plain": [
       "3.3333333333333335"
      ]
     },
     "execution_count": 29,
     "metadata": {},
     "output_type": "execute_result"
    }
   ],
   "source": [
    "200 / 60\n",
    "# This will convert 200 minutes to hours by diving by 60"
   ]
  },
  {
   "cell_type": "markdown",
   "id": "c553b778-250b-4623-8a7f-608a4e24458f",
   "metadata": {},
   "source": [
    "## Author\n",
    "Edward Alvarez F."
   ]
  }
 ],
 "metadata": {
  "kernelspec": {
   "display_name": "Python 3 (ipykernel)",
   "language": "python",
   "name": "python3"
  },
  "language_info": {
   "codemirror_mode": {
    "name": "ipython",
    "version": 3
   },
   "file_extension": ".py",
   "mimetype": "text/x-python",
   "name": "python",
   "nbconvert_exporter": "python",
   "pygments_lexer": "ipython3",
   "version": "3.11.7"
  }
 },
 "nbformat": 4,
 "nbformat_minor": 5
}
